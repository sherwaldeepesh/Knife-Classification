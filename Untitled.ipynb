{
 "cells": [
  {
   "cell_type": "code",
   "execution_count": 1,
   "id": "4b7d5435-3b97-45b4-87a9-8d2031dd8a88",
   "metadata": {},
   "outputs": [
    {
     "name": "stderr",
     "output_type": "stream",
     "text": [
      "/mnt/fast/nobackup/users/ds01502/miniconda3/envs/mlproject/lib/python3.9/site-packages/tqdm/auto.py:21: TqdmWarning: IProgress not found. Please update jupyter and ipywidgets. See https://ipywidgets.readthedocs.io/en/stable/user_install.html\n",
      "  from .autonotebook import tqdm as notebook_tqdm\n"
     ]
    }
   ],
   "source": [
    "## import libraries for training\n",
    "import warnings\n",
    "from datetime import datetime\n",
    "from timeit import default_timer as timer\n",
    "import pandas as pd\n",
    "import torch.optim\n",
    "from sklearn.model_selection import train_test_split\n",
    "from torch import optim\n",
    "from torch.optim import lr_scheduler\n",
    "from torch.utils.data import DataLoader\n",
    "from data import knifeDataset\n",
    "import timm\n",
    "from utils import *\n",
    "warnings.filterwarnings('ignore')\n",
    "\n",
    "import matplotlib.pyplot as plt\n",
    "import torchvision.transforms as transforms\n",
    "from PIL import Image\n"
   ]
  },
  {
   "cell_type": "code",
   "execution_count": 4,
   "metadata": {},
   "outputs": [
    {
     "data": {
      "text/plain": [
       "['resnet50', 'resnet50_gn', 'resnet50d', 'resnet50t']"
      ]
     },
     "execution_count": 4,
     "metadata": {},
     "output_type": "execute_result"
    }
   ],
   "source": [
    "timm.list_models('resnet50*')"
   ]
  },
  {
   "cell_type": "code",
   "execution_count": 2,
   "id": "1e2d60fb-e52e-4853-ae0f-3f514cd2d598",
   "metadata": {},
   "outputs": [],
   "source": [
    "import matplotlib.pyplot as plt\n",
    "import torchvision.transforms as transforms\n",
    "from PIL import Image\n"
   ]
  },
  {
   "cell_type": "code",
   "execution_count": null,
   "id": "840c0a47-6e27-4c25-9957-a4aeb43d00be",
   "metadata": {},
   "outputs": [
    {
     "name": "stdout",
     "output_type": "stream",
     "text": [
      "reading test file\n",
      "Creating test dataloader\n",
      "loading trained model\n"
     ]
    }
   ],
   "source": [
    "\n",
    "\n",
    "def save_topk_images(images, fnames, preds, k, save_dir):\n",
    "    if not os.path.exists(save_dir):\n",
    "        os.makedirs(save_dir)\n",
    "\n",
    "    for i in range(len(images)):\n",
    "        topk_pred = preds[i][:k]\n",
    "        fig, axes = plt.subplots(1, k, figsize=(4 * k, 4))\n",
    "        for j in range(k):\n",
    "            img = Image.open(images[i])\n",
    "            axes[j].imshow(img)\n",
    "            axes[j].set_title(f\"Prediction: {topk_pred[j]}\")\n",
    "            axes[j].axis(\"off\")\n",
    "\n",
    "        plt.savefig(os.path.join(save_dir, fnames[i].split('.')[0] + f\"_top{k}_predictions.png\"))\n",
    "\n",
    "\n",
    "# Validating the model\n",
    "def evaluate(val_loader,model, save_dir):\n",
    "    model.cuda()\n",
    "    model.eval()\n",
    "    model.training=False\n",
    "    map = AverageMeter()\n",
    "    accuracy_one = AverageMeter()\n",
    "    accuracy_five = AverageMeter()\n",
    "    with torch.no_grad():\n",
    "        for i, (images,target,fnames) in enumerate(val_loader):\n",
    "            img = images.cuda(non_blocking=True)\n",
    "            label = target.cuda(non_blocking=True)\n",
    "            \n",
    "            with torch.cuda.amp.autocast():\n",
    "                logits = model(img)\n",
    "                preds = logits.softmax(1)\n",
    "                # indx1 = torch.argmax(preds, dim=1)\n",
    "                predsn = torch.argsort(logits, dim=1, descending=True)\n",
    "            \n",
    "            # print(indx1)\n",
    "            # print(indx2)\n",
    "            valid_map5, valid_acc1, valid_acc5 = map_accuracy(preds, label)\n",
    "            map.update(valid_map5,img.size(0))\n",
    "            accuracy_one.update(valid_acc1,img.size(0))\n",
    "            accuracy_five.update(valid_acc5, img.size(0))\n",
    "\n",
    "            save_topk_images([os.path.join(config.folder_path, fname) for fname in fnames], fnames, predsn, 5, os.path.join(save_dir, \"top5_predictions\"))\n",
    "    # save_topk_images([os.path.join(config.folder_path, fname) for fname in fnames], fnames, predsn, 1, os.path.join(save_dir, \"top1_predictions\"))\n",
    "\n",
    "            \n",
    "    return map.avg, accuracy_one.avg, accuracy_five.avg\n",
    "\n",
    "## Computing the mean average precision, accuracy \n",
    "def map_accuracy(probs, truth, k=5):\n",
    "    with torch.no_grad():\n",
    "        value, top = probs.topk(k, dim=1, largest=True, sorted=True)\n",
    "\n",
    "        correct = top.eq(truth.view(-1, 1).expand_as(top))\n",
    "\n",
    "        \n",
    "        # top accuracy\n",
    "        correct = correct.float().sum(0, keepdim=False)\n",
    "        correct = correct / len(truth)\n",
    "\n",
    "        accs = [correct[0], correct[0] + correct[1] + correct[2] + correct[3] + correct[4]]\n",
    "        map5 = correct[0] / 1 + correct[1] / 2 + correct[2] / 3 + correct[3] / 4 + correct[4] / 5\n",
    "        acc1 = accs[0]\n",
    "        acc5 = accs[1]\n",
    "        return map5, acc1, acc5\n",
    "\n",
    "######################## load file and get splits #############################\n",
    "print('reading test file')\n",
    "test_files = pd.read_csv(\"test.csv\")\n",
    "print('Creating test dataloader')\n",
    "\n",
    "test_gen = knifeDataset(config.folder_path,test_files,mode=\"val\")\n",
    "test_loader = DataLoader(test_gen,batch_size=64,shuffle=False,pin_memory=True,num_workers=8)\n",
    "\n",
    "print('loading trained model')\n",
    "model = timm.create_model('resnet50d', pretrained=False,num_classes=0)\n",
    "\n",
    "model.head = nn.Sequential(\n",
    "    nn.BatchNorm1d(2048),\n",
    "    nn.Linear(in_features=2048, out_features=768, bias=False),\n",
    "    nn.ReLU(),\n",
    "    nn.BatchNorm1d(768),\n",
    "    nn.Dropout(0.4),\n",
    "    nn.Linear(in_features=768, out_features=192, bias=False)\n",
    ")\n",
    "\n",
    "model.load_state_dict(torch.load('/mnt/fast/nobackup/scratch4weeks/ds01502/MLDataset-Knife/ModelFiles/resnet50d/50.pt',map_location=torch.device('cpu')))\n",
    "# device = torch.device(\"cuda:0\" if torch.cuda.is_available() else \"cpu\")\n",
    "# model.to(device)\n",
    "\n",
    "############################# Training #################################\n",
    "\n",
    "# Run the evaluate function and specify the directory to save the images\n",
    "print('Evaluating trained model')\n",
    "save_directory = \"prediction_images/\"\n",
    "mAP, accuracy1, accuracy5 = evaluate(test_loader, model, save_directory)\n",
    "print(\"mAP =\",mAP)\n",
    "print(\"Top-1 Accuracy =\",accuracy1)\n",
    "print(\"Top-5 Accuracy =\",accuracy5)\n"
   ]
  },
  {
   "cell_type": "code",
   "execution_count": 1,
   "id": "27b9b149-2b02-49af-83ba-0168fb8e9e38",
   "metadata": {},
   "outputs": [],
   "source": [
    "import os"
   ]
  },
  {
   "cell_type": "code",
   "execution_count": 3,
   "metadata": {},
   "outputs": [],
   "source": [
    "ds_details = os.listdir('/mnt/fast/nobackup/scratch4weeks/ds01502/MLDataset-Knife/Train')"
   ]
  },
  {
   "cell_type": "code",
   "execution_count": 4,
   "metadata": {},
   "outputs": [],
   "source": [
    "import pandas as pd\n",
    "ts = pd.read_csv('train.csv', delimiter=',')"
   ]
  },
  {
   "cell_type": "code",
   "execution_count": 12,
   "metadata": {},
   "outputs": [],
   "source": [
    "df_n = pd.DataFrame({\"IdName\":ts.Id.apply(lambda x: x.split('/')[2]), \"Label\":ts.Label, \"IdImg\":ts.Id}).reset_index()"
   ]
  },
  {
   "cell_type": "code",
   "execution_count": 14,
   "metadata": {},
   "outputs": [],
   "source": [
    "df_n = df_n.drop_duplicates(subset=['Label'])"
   ]
  },
  {
   "cell_type": "code",
   "execution_count": 20,
   "metadata": {},
   "outputs": [
    {
     "data": {
      "text/html": [
       "<div>\n",
       "<style scoped>\n",
       "    .dataframe tbody tr th:only-of-type {\n",
       "        vertical-align: middle;\n",
       "    }\n",
       "\n",
       "    .dataframe tbody tr th {\n",
       "        vertical-align: top;\n",
       "    }\n",
       "\n",
       "    .dataframe thead th {\n",
       "        text-align: right;\n",
       "    }\n",
       "</style>\n",
       "<table border=\"1\" class=\"dataframe\">\n",
       "  <thead>\n",
       "    <tr style=\"text-align: right;\">\n",
       "      <th></th>\n",
       "      <th>index</th>\n",
       "      <th>IdName</th>\n",
       "      <th>Label</th>\n",
       "      <th>IdImg</th>\n",
       "    </tr>\n",
       "  </thead>\n",
       "  <tbody>\n",
       "    <tr>\n",
       "      <th>0</th>\n",
       "      <td>0</td>\n",
       "      <td>Anglo_ArmsSurvival_Haku_Machete</td>\n",
       "      <td>0</td>\n",
       "      <td>./Train/Anglo_ArmsSurvival_Haku_Machete/IMG_41...</td>\n",
       "    </tr>\n",
       "    <tr>\n",
       "      <th>24</th>\n",
       "      <td>24</td>\n",
       "      <td>Anglo_Arms_85_Knife</td>\n",
       "      <td>1</td>\n",
       "      <td>./Train/Anglo_Arms_85_Knife/PXL_20221202_12124...</td>\n",
       "    </tr>\n",
       "    <tr>\n",
       "      <th>93</th>\n",
       "      <td>93</td>\n",
       "      <td>Anglo_Arms_95_Fixed_Blade</td>\n",
       "      <td>2</td>\n",
       "      <td>./Train/Anglo_Arms_95_Fixed_Blade/IMG_4356.JPEG</td>\n",
       "    </tr>\n",
       "    <tr>\n",
       "      <th>112</th>\n",
       "      <td>112</td>\n",
       "      <td>Anglo_Arms_Black_Fibre_Handle_Lock_Knife</td>\n",
       "      <td>3</td>\n",
       "      <td>./Train/Anglo_Arms_Black_Fibre_Handle_Lock_Kni...</td>\n",
       "    </tr>\n",
       "    <tr>\n",
       "      <th>151</th>\n",
       "      <td>151</td>\n",
       "      <td>Anglo_Arms_Black_and_White_Micart</td>\n",
       "      <td>4</td>\n",
       "      <td>./Train/Anglo_Arms_Black_and_White_Micart/PXL_...</td>\n",
       "    </tr>\n",
       "    <tr>\n",
       "      <th>...</th>\n",
       "      <td>...</td>\n",
       "      <td>...</td>\n",
       "      <td>...</td>\n",
       "      <td>...</td>\n",
       "    </tr>\n",
       "    <tr>\n",
       "      <th>9223</th>\n",
       "      <td>9223</td>\n",
       "      <td>Victorinox_Huntsman_Camoflauge_15</td>\n",
       "      <td>187</td>\n",
       "      <td>./Train/Victorinox_Huntsman_Camoflauge_15/PXL_...</td>\n",
       "    </tr>\n",
       "    <tr>\n",
       "      <th>9283</th>\n",
       "      <td>9283</td>\n",
       "      <td>Victorinox_Spartan_Camouflage_12</td>\n",
       "      <td>188</td>\n",
       "      <td>./Train/Victorinox_Spartan_Camouflage_12/IMG_3...</td>\n",
       "    </tr>\n",
       "    <tr>\n",
       "      <th>9400</th>\n",
       "      <td>9400</td>\n",
       "      <td>Woodcarving_Knife_Making_Kit</td>\n",
       "      <td>189</td>\n",
       "      <td>./Train/Woodcarving_Knife_Making_Kit/IMG_3895....</td>\n",
       "    </tr>\n",
       "    <tr>\n",
       "      <th>9456</th>\n",
       "      <td>9456</td>\n",
       "      <td>Yellow_Rescue_Knife</td>\n",
       "      <td>190</td>\n",
       "      <td>./Train/Yellow_Rescue_Knife/IMG_4222.JPEG</td>\n",
       "    </tr>\n",
       "    <tr>\n",
       "      <th>9556</th>\n",
       "      <td>9556</td>\n",
       "      <td>pc_WhittlingCarving_Knife_Set</td>\n",
       "      <td>191</td>\n",
       "      <td>./Train/pc_WhittlingCarving_Knife_Set/IMG_4360...</td>\n",
       "    </tr>\n",
       "  </tbody>\n",
       "</table>\n",
       "<p>192 rows × 4 columns</p>\n",
       "</div>"
      ],
      "text/plain": [
       "      index                                    IdName  Label  \\\n",
       "0         0           Anglo_ArmsSurvival_Haku_Machete      0   \n",
       "24       24                       Anglo_Arms_85_Knife      1   \n",
       "93       93                 Anglo_Arms_95_Fixed_Blade      2   \n",
       "112     112  Anglo_Arms_Black_Fibre_Handle_Lock_Knife      3   \n",
       "151     151         Anglo_Arms_Black_and_White_Micart      4   \n",
       "...     ...                                       ...    ...   \n",
       "9223   9223         Victorinox_Huntsman_Camoflauge_15    187   \n",
       "9283   9283          Victorinox_Spartan_Camouflage_12    188   \n",
       "9400   9400              Woodcarving_Knife_Making_Kit    189   \n",
       "9456   9456                       Yellow_Rescue_Knife    190   \n",
       "9556   9556             pc_WhittlingCarving_Knife_Set    191   \n",
       "\n",
       "                                                  IdImg  \n",
       "0     ./Train/Anglo_ArmsSurvival_Haku_Machete/IMG_41...  \n",
       "24    ./Train/Anglo_Arms_85_Knife/PXL_20221202_12124...  \n",
       "93      ./Train/Anglo_Arms_95_Fixed_Blade/IMG_4356.JPEG  \n",
       "112   ./Train/Anglo_Arms_Black_Fibre_Handle_Lock_Kni...  \n",
       "151   ./Train/Anglo_Arms_Black_and_White_Micart/PXL_...  \n",
       "...                                                 ...  \n",
       "9223  ./Train/Victorinox_Huntsman_Camoflauge_15/PXL_...  \n",
       "9283  ./Train/Victorinox_Spartan_Camouflage_12/IMG_3...  \n",
       "9400  ./Train/Woodcarving_Knife_Making_Kit/IMG_3895....  \n",
       "9456          ./Train/Yellow_Rescue_Knife/IMG_4222.JPEG  \n",
       "9556  ./Train/pc_WhittlingCarving_Knife_Set/IMG_4360...  \n",
       "\n",
       "[192 rows x 4 columns]"
      ]
     },
     "execution_count": 20,
     "metadata": {},
     "output_type": "execute_result"
    }
   ],
   "source": [
    "df_n"
   ]
  },
  {
   "cell_type": "code",
   "execution_count": 18,
   "metadata": {},
   "outputs": [],
   "source": [
    "df_n.reset_index(drop=\"index\").set_index('Label').to_csv('Label_id_list.csv')"
   ]
  },
  {
   "cell_type": "code",
   "execution_count": 21,
   "metadata": {},
   "outputs": [],
   "source": [
    "ns = pd.read_csv('Label_id_list.csv')"
   ]
  },
  {
   "cell_type": "code",
   "execution_count": 35,
   "metadata": {},
   "outputs": [
    {
     "data": {
      "text/plain": [
       "'./Train/Anglo_ArmsSurvival_Haku_Machete/IMG_4107.JPEG'"
      ]
     },
     "execution_count": 35,
     "metadata": {},
     "output_type": "execute_result"
    }
   ],
   "source": [
    "str(ns[ns['Label']==0]['IdImg'].values[0])"
   ]
  },
  {
   "cell_type": "code",
   "execution_count": 38,
   "metadata": {},
   "outputs": [
    {
     "data": {
      "text/plain": [
       "'jk/jhk'"
      ]
     },
     "execution_count": 38,
     "metadata": {},
     "output_type": "execute_result"
    }
   ],
   "source": [
    "\"/\".join(['jk','jhk'])"
   ]
  },
  {
   "cell_type": "code",
   "execution_count": 5,
   "metadata": {},
   "outputs": [],
   "source": []
  },
  {
   "cell_type": "code",
   "execution_count": 20,
   "metadata": {},
   "outputs": [
    {
     "name": "stdout",
     "output_type": "stream",
     "text": [
      "Hello Hello\n"
     ]
    }
   ],
   "source": [
    "!python config.py --root \"Hello Hello\""
   ]
  },
  {
   "cell_type": "code",
   "execution_count": 2,
   "metadata": {},
   "outputs": [
    {
     "ename": "TypeError",
     "evalue": "can only concatenate str (not \"list\") to str",
     "output_type": "error",
     "traceback": [
      "\u001b[0;31m---------------------------------------------------------------------------\u001b[0m",
      "\u001b[0;31mTypeError\u001b[0m                                 Traceback (most recent call last)",
      "\u001b[1;32m/mnt/fast/nobackup/users/ds01502/MLKnifeProject/EEEM066_Knife_Classification_code/Untitled.ipynb Cell 17\u001b[0m line \u001b[0;36m6\n\u001b[1;32m      <a href='vscode-notebook-cell://ssh-remote%2Baisurrey-condor.surrey.ac.uk/mnt/fast/nobackup/users/ds01502/MLKnifeProject/EEEM066_Knife_Classification_code/Untitled.ipynb#X22sdnNjb2RlLXJlbW90ZQ%3D%3D?line=2'>3</a>\u001b[0m \u001b[39mfrom\u001b[39;00m \u001b[39mPIL\u001b[39;00m \u001b[39mimport\u001b[39;00m Image\n\u001b[1;32m      <a href='vscode-notebook-cell://ssh-remote%2Baisurrey-condor.surrey.ac.uk/mnt/fast/nobackup/users/ds01502/MLKnifeProject/EEEM066_Knife_Classification_code/Untitled.ipynb#X22sdnNjb2RlLXJlbW90ZQ%3D%3D?line=4'>5</a>\u001b[0m \u001b[39m# Assuming we have multiple folders with images and we know their paths\u001b[39;00m\n\u001b[0;32m----> <a href='vscode-notebook-cell://ssh-remote%2Baisurrey-condor.surrey.ac.uk/mnt/fast/nobackup/users/ds01502/MLKnifeProject/EEEM066_Knife_Classification_code/Untitled.ipynb#X22sdnNjb2RlLXJlbW90ZQ%3D%3D?line=5'>6</a>\u001b[0m folders \u001b[39m=\u001b[39m \u001b[39m\"\u001b[39;49m\u001b[39m/mnt/fast/nobackup/scratch4weeks/ds01502/MLDataset-Knife/Train/\u001b[39;49m\u001b[39m\"\u001b[39;49m\u001b[39m+\u001b[39;49mos\u001b[39m.\u001b[39;49mlistdir(\u001b[39m'\u001b[39;49m\u001b[39m/mnt/fast/nobackup/scratch4weeks/ds01502/MLDataset-Knife/Train\u001b[39;49m\u001b[39m'\u001b[39;49m)\n\u001b[1;32m      <a href='vscode-notebook-cell://ssh-remote%2Baisurrey-condor.surrey.ac.uk/mnt/fast/nobackup/users/ds01502/MLKnifeProject/EEEM066_Knife_Classification_code/Untitled.ipynb#X22sdnNjb2RlLXJlbW90ZQ%3D%3D?line=7'>8</a>\u001b[0m \u001b[39m# List to store selected image paths\u001b[39;00m\n\u001b[1;32m      <a href='vscode-notebook-cell://ssh-remote%2Baisurrey-condor.surrey.ac.uk/mnt/fast/nobackup/users/ds01502/MLKnifeProject/EEEM066_Knife_Classification_code/Untitled.ipynb#X22sdnNjb2RlLXJlbW90ZQ%3D%3D?line=8'>9</a>\u001b[0m selected_images \u001b[39m=\u001b[39m []\n",
      "\u001b[0;31mTypeError\u001b[0m: can only concatenate str (not \"list\") to str"
     ]
    }
   ],
   "source": [
    "import os\n",
    "import random\n",
    "from PIL import Image\n",
    "\n",
    "# Assuming we have multiple folders with images and we know their paths\n",
    "folders = [\"/\".join(\"/mnt/fast/nobackup/scratch4weeks/ds01502/MLDataset-Knife/Train\",i) for i in os.listdir('/mnt/fast/nobackup/scratch4weeks/ds01502/MLDataset-Knife/Train')]\n",
    "\n",
    "# List to store selected image paths\n",
    "selected_images = []\n",
    "\n",
    "# Select 4 random images from each folder\n",
    "for folder in folders:\n",
    "    images = [os.path.join(folder, f) for f in os.listdir(folder) if os.path.isfile(os.path.join(folder, f))]\n",
    "    selected_images.extend(random.sample(images, 4))\n",
    "\n",
    "# Create a new image to combine the selected images\n",
    "# Assuming all images are of the same size for simplicity\n",
    "image_size = Image.open(selected_images[0]).size\n",
    "combined_image_size = (image_size[0] * 4, image_size[1] * 4)\n",
    "combined_image = Image.new('RGB', combined_image_size)\n",
    "\n",
    "# Paste the selected images into the combined image\n",
    "for i, image_path in enumerate(selected_images):\n",
    "    image = Image.open(image_path)\n",
    "    x = (i % 4) * image_size[0]\n",
    "    y = (i // 4) * image_size[1]\n",
    "    combined_image.paste(image, (x, y))\n",
    "\n",
    "# Show the combined image\n",
    "combined_image.show()\n",
    "\n",
    "# Save the combined image if needed\n",
    "combined_image.save('sample_image.jpg')\n"
   ]
  },
  {
   "cell_type": "code",
   "execution_count": null,
   "metadata": {},
   "outputs": [],
   "source": []
  }
 ],
 "metadata": {
  "kernelspec": {
   "display_name": "Python 3 (ipykernel)",
   "language": "python",
   "name": "python3"
  },
  "language_info": {
   "codemirror_mode": {
    "name": "ipython",
    "version": 3
   },
   "file_extension": ".py",
   "mimetype": "text/x-python",
   "name": "python",
   "nbconvert_exporter": "python",
   "pygments_lexer": "ipython3",
   "version": "3.9.18"
  }
 },
 "nbformat": 4,
 "nbformat_minor": 5
}
